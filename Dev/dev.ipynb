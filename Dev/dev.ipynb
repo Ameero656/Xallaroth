{
 "cells": [
  {
   "cell_type": "code",
   "execution_count": 6,
   "metadata": {},
   "outputs": [
    {
     "ename": "IndexError",
     "evalue": "list index out of range",
     "output_type": "error",
     "traceback": [
      "\u001b[1;31m---------------------------------------------------------------------------\u001b[0m",
      "\u001b[1;31mIndexError\u001b[0m                                Traceback (most recent call last)",
      "\u001b[1;32mj:\\My Drive\\Programs\\Python\\Xallaroth_Official\\Dev\\dev.ipynb Cell 1\u001b[0m in \u001b[0;36m<cell line: 21>\u001b[1;34m()\u001b[0m\n\u001b[0;32m     <a href='vscode-notebook-cell:/j%3A/My%20Drive/Programs/Python/Xallaroth_Official/Dev/dev.ipynb#W0sZmlsZQ%3D%3D?line=17'>18</a>\u001b[0m \t\t\t\t\u001b[39mreturn\u001b[39;00m \u001b[39m\"\u001b[39m\u001b[39mdisqualified\u001b[39m\u001b[39m\"\u001b[39m\n\u001b[0;32m     <a href='vscode-notebook-cell:/j%3A/My%20Drive/Programs/Python/Xallaroth_Official/Dev/dev.ipynb#W0sZmlsZQ%3D%3D?line=18'>19</a>\u001b[0m \t\u001b[39mreturn\u001b[39;00m \u001b[39m\"\u001b[39m\u001b[39mqualified\u001b[39m\u001b[39m\"\u001b[39m\n\u001b[1;32m---> <a href='vscode-notebook-cell:/j%3A/My%20Drive/Programs/Python/Xallaroth_Official/Dev/dev.ipynb#W0sZmlsZQ%3D%3D?line=20'>21</a>\u001b[0m interview([\u001b[39m5\u001b[39;49m, \u001b[39m5\u001b[39;49m, \u001b[39m10\u001b[39;49m, \u001b[39m10\u001b[39;49m, \u001b[39m15\u001b[39;49m, \u001b[39m15\u001b[39;49m, \u001b[39m20\u001b[39;49m], \u001b[39m120\u001b[39;49m)\n",
      "\u001b[1;32mj:\\My Drive\\Programs\\Python\\Xallaroth_Official\\Dev\\dev.ipynb Cell 1\u001b[0m in \u001b[0;36minterview\u001b[1;34m(lst, tot)\u001b[0m\n\u001b[0;32m      <a href='vscode-notebook-cell:/j%3A/My%20Drive/Programs/Python/Xallaroth_Official/Dev/dev.ipynb#W0sZmlsZQ%3D%3D?line=6'>7</a>\u001b[0m easy \u001b[39m=\u001b[39m [lst[\u001b[39m2\u001b[39m], lst[\u001b[39m3\u001b[39m]]\n\u001b[0;32m      <a href='vscode-notebook-cell:/j%3A/My%20Drive/Programs/Python/Xallaroth_Official/Dev/dev.ipynb#W0sZmlsZQ%3D%3D?line=7'>8</a>\u001b[0m medium \u001b[39m=\u001b[39m [lst[\u001b[39m4\u001b[39m], lst[\u001b[39m5\u001b[39m]]\n\u001b[1;32m----> <a href='vscode-notebook-cell:/j%3A/My%20Drive/Programs/Python/Xallaroth_Official/Dev/dev.ipynb#W0sZmlsZQ%3D%3D?line=8'>9</a>\u001b[0m hard \u001b[39m=\u001b[39m [lst[\u001b[39m6\u001b[39m], lst[\u001b[39m7\u001b[39;49m]]\n\u001b[0;32m     <a href='vscode-notebook-cell:/j%3A/My%20Drive/Programs/Python/Xallaroth_Official/Dev/dev.ipynb#W0sZmlsZQ%3D%3D?line=10'>11</a>\u001b[0m lst \u001b[39m=\u001b[39m [very_easy, easy, medium, hard]\n\u001b[0;32m     <a href='vscode-notebook-cell:/j%3A/My%20Drive/Programs/Python/Xallaroth_Official/Dev/dev.ipynb#W0sZmlsZQ%3D%3D?line=12'>13</a>\u001b[0m diff_to_time \u001b[39m=\u001b[39m [\u001b[39m5\u001b[39m, \u001b[39m10\u001b[39m, \u001b[39m15\u001b[39m, \u001b[39m20\u001b[39m]\n",
      "\u001b[1;31mIndexError\u001b[0m: list index out of range"
     ]
    }
   ],
   "source": [
    "def interview(lst, tot):\n",
    "\t\n",
    "\tif tot >120:\n",
    "\t\treturn \"disqualified\"\n",
    "\n",
    "\tvery_easy = [lst[0], lst[1]]\n",
    "\teasy = [lst[2], lst[3]]\n",
    "\tmedium = [lst[4], lst[5]]\n",
    "\thard = [lst[6], lst[7]]\n",
    "\t\n",
    "\tlst = [very_easy, easy, medium, hard]\n",
    "\t\n",
    "\tdiff_to_time = [5, 10, 15, 20]\n",
    "\t\n",
    "\tfor index, difficulty_pair in enumerate(lst):\n",
    "\t\tfor difficulty in difficulty_pair:\n",
    "\t\t\tif difficulty >diff_to_time[index]:\n",
    "\t\t\t\treturn \"disqualified\"\n",
    "\treturn \"qualified\"\n",
    "\t\n",
    "interview([5, 5, 10, 10, 15, 15, 20], 120)"
   ]
  },
  {
   "cell_type": "code",
   "execution_count": 2,
   "metadata": {},
   "outputs": [
    {
     "name": "stdout",
     "output_type": "stream",
     "text": [
      "x: 1\n",
      "y 51\n",
      "x: 2\n",
      "y 54\n",
      "x: 3\n",
      "y 59\n",
      "x: 4\n",
      "y 66\n",
      "x: 5\n",
      "y 75\n",
      "x: 6\n",
      "y 86\n",
      "x: 7\n",
      "y 99\n",
      "x: 8\n",
      "y 114\n",
      "x: 9\n",
      "y 131\n",
      "x: 10\n",
      "y 150\n",
      "x: 11\n",
      "y 171\n",
      "x: 12\n",
      "y 194\n",
      "x: 13\n",
      "y 219\n",
      "x: 14\n",
      "y 246\n",
      "x: 15\n",
      "y 275\n",
      "x: 16\n",
      "y 306\n",
      "x: 17\n",
      "y 339\n",
      "x: 18\n",
      "y 374\n",
      "x: 19\n",
      "y 411\n",
      "x: 20\n",
      "y 450\n",
      "x: 21\n",
      "y 491\n",
      "x: 22\n",
      "y 534\n",
      "x: 23\n",
      "y 579\n",
      "x: 24\n",
      "y 626\n",
      "x: 25\n",
      "y 675\n",
      "x: 26\n",
      "y 726\n",
      "x: 27\n",
      "y 779\n",
      "x: 28\n",
      "y 834\n",
      "x: 29\n",
      "y 891\n",
      "x: 30\n",
      "y 950\n",
      "x: 31\n",
      "y 1011\n",
      "x: 32\n",
      "y 1074\n",
      "x: 33\n",
      "y 1139\n",
      "x: 34\n",
      "y 1206\n",
      "x: 35\n",
      "y 1275\n",
      "x: 36\n",
      "y 1346\n",
      "x: 37\n",
      "y 1419\n",
      "x: 38\n",
      "y 1494\n",
      "x: 39\n",
      "y 1571\n",
      "x: 40\n",
      "y 1650\n",
      "x: 41\n",
      "y 1731\n",
      "x: 42\n",
      "y 1814\n",
      "x: 43\n",
      "y 1899\n",
      "x: 44\n",
      "y 1986\n",
      "x: 45\n",
      "y 2075\n",
      "x: 46\n",
      "y 2166\n",
      "x: 47\n",
      "y 2259\n",
      "x: 48\n",
      "y 2354\n",
      "x: 49\n",
      "y 2451\n"
     ]
    }
   ],
   "source": [
    "Test.assert_equals(interview([5, 5, 10, 10, 15, 15, 20], 120), 'disqualified')"
   ]
  },
  {
   "cell_type": "code",
   "execution_count": null,
   "metadata": {},
   "outputs": [],
   "source": []
  }
 ],
 "metadata": {
  "kernelspec": {
   "display_name": "Python 3",
   "language": "python",
   "name": "python3"
  },
  "language_info": {
   "codemirror_mode": {
    "name": "ipython",
    "version": 3
   },
   "file_extension": ".py",
   "mimetype": "text/x-python",
   "name": "python",
   "nbconvert_exporter": "python",
   "pygments_lexer": "ipython3",
   "version": "3.10.4"
  },
  "orig_nbformat": 4,
  "vscode": {
   "interpreter": {
    "hash": "5f79f8960d6dedbddfdd5036fe6150b0e398b172e679338c88a6d73d66b5e0f7"
   }
  }
 },
 "nbformat": 4,
 "nbformat_minor": 2
}
